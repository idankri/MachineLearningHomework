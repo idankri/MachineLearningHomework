{
 "cells": [
  {
   "cell_type": "markdown",
   "metadata": {
    "nbgrader": {
     "grade": false,
     "grade_id": "cell-6bd0516e7cb654f5",
     "locked": true,
     "schema_version": 1,
     "solution": false
    }
   },
   "source": [
    "# Exercise 2: Decision Trees\n",
    "\n",
    "In this assignment you will implement a Decision Tree algorithm as learned in class.\n",
    "\n",
    "## Read the following instructions carefully:\n",
    "\n",
    "1. This jupyter notebook contains all the step by step instructions needed for this exercise.\n",
    "1. Submission includes this notebook only with the exercise number and your ID as the filename. For example: `hw2_123456789_987654321.ipynb` if you submitted in pairs and `hw2_123456789.ipynb` if you submitted the exercise alone.\n",
    "1. Write **efficient vectorized** code whenever possible. Some calculations in this exercise take several minutes when implemented efficiently, and might take much longer otherwise. Unnecessary loops will result in point deduction.\n",
    "1. You are responsible for the correctness of your code and should add as many tests as you see fit. Tests will not be graded nor checked.\n",
    "1. Write your functions in this notebook only. **Do not create Python modules and import them**.\n",
    "1. You are allowed to use functions and methods from the [Python Standard Library](https://docs.python.org/3/library/) and [numpy](https://www.numpy.org/devdocs/reference/) only. **Do not import anything else.**\n",
    "1. Your code must run without errors. Make sure your `numpy` version is at least 1.15.4 and that you are using at least python 3.6. Changes of the configuration we provided are at your own risk. Any code that cannot run will not be graded.\n",
    "1. Write your own code. Cheating will not be tolerated.\n",
    "1. Answers to qualitative questions should be written in **markdown** cells (with $\\LaTeX$ support). Answers that will be written in commented code blocks will not be checked.\n",
    "\n",
    "## In this exercise you will perform the following:\n",
    "1. Practice OOP in python.\n",
    "2. Implement two impurity measures: Gini and Entropy.\n",
    "3. Construct a decision tree algorithm.\n",
    "4. Prune the tree to achieve better results.\n",
    "5. Visualize your results."
   ]
  },
  {
   "cell_type": "markdown",
   "metadata": {},
   "source": [
    "# I have read and understood the instructions: ***  ***"
   ]
  },
  {
   "cell_type": "code",
   "execution_count": 1,
   "metadata": {
    "nbgrader": {
     "grade": false,
     "grade_id": "cell-ed9fe7b1026e33cb",
     "locked": true,
     "schema_version": 1,
     "solution": false
    }
   },
   "outputs": [],
   "source": [
    "import numpy as np\n",
    "import pandas as pd\n",
    "import matplotlib.pyplot as plt\n",
    "\n",
    "# make matplotlib figures appear inline in the notebook\n",
    "%matplotlib inline\n",
    "plt.rcParams['figure.figsize'] = (10.0, 8.0) # set default size of plots\n",
    "plt.rcParams['image.interpolation'] = 'nearest'\n",
    "plt.rcParams['image.cmap'] = 'gray'\n",
    "\n",
    "# Ignore warnings\n",
    "import warnings\n",
    "warnings.filterwarnings('ignore')"
   ]
  },
  {
   "cell_type": "markdown",
   "metadata": {
    "nbgrader": {
     "grade": false,
     "grade_id": "cell-c6ac605270c2b091",
     "locked": true,
     "schema_version": 1,
     "solution": false
    }
   },
   "source": [
    "## Warmup - OOP in python\n",
    "\n",
    "Our desicion tree will be implemented using a dedicated python class. Python classes are very similar to classes in Java.\n",
    "\n",
    "\n",
    "You can use the following [site](https://jeffknupp.com/blog/2014/06/18/improve-your-python-python-classes-and-object-oriented-programming/) to learn about classes in python."
   ]
  },
  {
   "cell_type": "code",
   "execution_count": 2,
   "metadata": {},
   "outputs": [],
   "source": [
    "class Node(object):\n",
    "    def __init__(self, data):\n",
    "        self.data = data\n",
    "        self.children = []\n",
    "\n",
    "    def add_child(self, node):\n",
    "        self.children.append(node)"
   ]
  },
  {
   "cell_type": "code",
   "execution_count": 3,
   "metadata": {},
   "outputs": [
    {
     "data": {
      "text/plain": [
       "[<__main__.Node at 0x218d9d1c550>, <__main__.Node at 0x218d9d1cb20>]"
      ]
     },
     "execution_count": 3,
     "metadata": {},
     "output_type": "execute_result"
    }
   ],
   "source": [
    "n = Node(5)\n",
    "p = Node(6)\n",
    "q = Node(7)\n",
    "n.add_child(p)\n",
    "n.add_child(q)\n",
    "n.children"
   ]
  },
  {
   "cell_type": "markdown",
   "metadata": {
    "nbgrader": {
     "grade": false,
     "grade_id": "cell-2f1ceb251c649b62",
     "locked": true,
     "schema_version": 1,
     "solution": false
    }
   },
   "source": [
    "## Data preprocessing\n",
    "\n",
    "For the following exercise, we will use a dataset containing mushroom data `agaricus-lepiota.csv`. \n",
    "\n",
    "This data set includes descriptions of hypothetical samples corresponding to 23 species of gilled mushrooms in the Agaricus and Lepiota Family. Each species is identified as definitely edible, definitely poisonous, or of unknown edibility and not recommended. This latter class was combined with the poisonous\n",
    "one (=there are only two classes **edible** and **poisonous**). \n",
    "    \n",
    "The dataset contains 8124 observations with 22 features:\n",
    "1. cap-shape: bell=b,conical=c,convex=x,flat=f,knobbed=k,sunken=s\n",
    "2. cap-surface: fibrous=f,grooves=g,scaly=y,smooth=s\n",
    "3. cap-color: brown=n,buff=b,cinnamon=c,gray=g,green=r,pink=p,purple=u,red=e,white=w,yellow=y\n",
    "4. bruises: bruises=t,no=f\n",
    "5. odor: almond=a,anise=l,creosote=c,fishy=y,foul=f, musty=m,none=n,pungent=p,spicy=s\n",
    "6. gill-attachment: attached=a,descending=d,free=f,notched=n\n",
    "7. gill-spacing: close=c,crowded=w,distant=d\n",
    "8. gill-size: broad=b,narrow=n\n",
    "9. gill-color: black=k,brown=n,buff=b,chocolate=h,gray=g,green=r,orange=o,pink=p,purple=u,red=e,white=w,yellow=y\n",
    "10. stalk-shape: enlarging=e,tapering=t\n",
    "11. stalk-root: bulbous=b,club=c,cup=u,equal=e,rhizomorphs=z,rooted=r\n",
    "12. stalk-surface-above-ring: fibrous=f,scaly=y,silky=k,smooth=s\n",
    "13. stalk-surface-below-ring: fibrous=f,scaly=y,silky=k,smooth=s\n",
    "14. stalk-color-above-ring: brown=n,buff=b,cinnamon=c,gray=g,orange=o,pink=p,red=e,white=w,yellow=y\n",
    "15. stalk-color-below-ring: brown=n,buff=b,cinnamon=c,gray=g,orange=o,pink=p,red=e,white=w,yellow=y\n",
    "16. veil-type: partial=p,universal=u\n",
    "17. veil-color: brown=n,orange=o,white=w,yellow=y\n",
    "18. ring-number: none=n,one=o,two=t\n",
    "19. ring-type: cobwebby=c,evanescent=e,flaring=f,large=l,none=n,pendant=p,sheathing=s,zone=z\n",
    "20. spore-print-color: black=k,brown=n,buff=b,chocolate=h,green=r,orange=o,purple=u,white=w,yellow=y\n",
    "21. population: abundant=a,clustered=c,numerous=n,scattered=s,several=v,solitary=y\n",
    "22. habitat: grasses=g,leaves=l,meadows=m,paths=p,urban=u,waste=w,woods=d\n",
    "\n",
    "First, we will read and explore the data using pandas and the `.read_csv` method. Pandas is an open source library providing high-performance, easy-to-use data structures and data analysis tools for the Python programming language."
   ]
  },
  {
   "cell_type": "code",
   "execution_count": 4,
   "metadata": {
    "nbgrader": {
     "grade": false,
     "grade_id": "cell-d79cb4542926ad3f",
     "locked": true,
     "schema_version": 1,
     "solution": false
    }
   },
   "outputs": [],
   "source": [
    "# load dataset\n",
    "data = pd.read_csv('agaricus-lepiota.csv')"
   ]
  },
  {
   "cell_type": "markdown",
   "metadata": {},
   "source": [
    "One of the advantages of the Decision Tree algorithm is that almost no preprocessing is required. However, finding missing values is always required."
   ]
  },
  {
   "cell_type": "code",
   "execution_count": 5,
   "metadata": {},
   "outputs": [],
   "source": [
    "#############################################################################\n",
    "# TODO: Find the columns with missing values and remove them from the data.#\n",
    "#############################################################################\n",
    "data.dropna(axis=1, inplace=True)\n",
    "#############################################################################\n",
    "#                             END OF YOUR CODE                              #\n",
    "#############################################################################"
   ]
  },
  {
   "cell_type": "markdown",
   "metadata": {},
   "source": [
    "We will split the dataset to `Training` and `Testing` datasets."
   ]
  },
  {
   "cell_type": "code",
   "execution_count": 6,
   "metadata": {},
   "outputs": [
    {
     "name": "stdout",
     "output_type": "stream",
     "text": [
      "Training dataset shape:  (6093, 22)\n",
      "Testing dataset shape:  (2031, 22)\n"
     ]
    }
   ],
   "source": [
    "from sklearn.model_selection import train_test_split\n",
    "# Making sure the last column will hold the labels\n",
    "X, y = data.drop('class', axis=1), data['class']\n",
    "X = np.column_stack([X,y])\n",
    "# split dataset using random_state to get the same split each time\n",
    "X_train, X_test = train_test_split(X, random_state=99)\n",
    "\n",
    "print(\"Training dataset shape: \", X_train.shape)\n",
    "print(\"Testing dataset shape: \", X_test.shape)"
   ]
  },
  {
   "cell_type": "markdown",
   "metadata": {
    "nbgrader": {
     "grade": false,
     "grade_id": "cell-fd7b0191f3f1e897",
     "locked": true,
     "schema_version": 1,
     "solution": false
    }
   },
   "source": [
    "## Impurity Measures\n",
    "\n",
    "Impurity is a measure of how often a randomly chosen element from the set would be incorrectly labeled if it was randomly labeled according to the distribution of labels in the subset. Implement the functions `calc_gini` and `calc_entropy`. You are encouraged to test your implementation (10 points)."
   ]
  },
  {
   "cell_type": "code",
   "execution_count": 7,
   "metadata": {},
   "outputs": [],
   "source": [
    "def calc_gini(data):\n",
    "    \"\"\"\n",
    "    Calculate gini impurity measure of a dataset.\n",
    " \n",
    "    Input:\n",
    "    - data: any dataset where the last column holds the labels.\n",
    " \n",
    "    Returns the gini impurity.    \n",
    "    \"\"\"\n",
    "    gini = 0.0\n",
    "    ###########################################################################\n",
    "    # TODO: Implement the function.                                           #\n",
    "    ###########################################################################\n",
    "    unique, counts = np.unique(data[:,-1], return_counts=True)\n",
    "    probs = counts / data.shape[0]\n",
    "    gini = 1 - probs.dot(probs)\n",
    "    \n",
    "    ###########################################################################\n",
    "    #                             END OF YOUR CODE                            #\n",
    "    ###########################################################################\n",
    "    return gini"
   ]
  },
  {
   "cell_type": "code",
   "execution_count": 8,
   "metadata": {},
   "outputs": [],
   "source": [
    "def calc_entropy(data):\n",
    "    \"\"\"\n",
    "    Calculate the entropy of a dataset.\n",
    "\n",
    "    Input:\n",
    "    - data: any dataset where the last column holds the labels.\n",
    "\n",
    "    Returns the entropy of the dataset.    \n",
    "    \"\"\"\n",
    "    entropy = 0.0\n",
    "    ###########################################################################\n",
    "    # TODO: Implement the function.                                           #\n",
    "    ###########################################################################\n",
    "    unique, counts = np.unique(data[:,-1], return_counts=True)\n",
    "    probs = counts / data.shape[0]\n",
    "    log_probs = np.log(probs) / np.log(2) #convert to base 2\n",
    "    entropy = - probs.dot(log_probs)\n",
    "    ###########################################################################\n",
    "    #                             END OF YOUR CODE                            #\n",
    "    ###########################################################################\n",
    "    return entropy"
   ]
  },
  {
   "cell_type": "code",
   "execution_count": 9,
   "metadata": {
    "scrolled": true
   },
   "outputs": [
    {
     "data": {
      "text/plain": [
       "(0.4995636322379775, 0.9993703627906088)"
      ]
     },
     "execution_count": 9,
     "metadata": {},
     "output_type": "execute_result"
    }
   ],
   "source": [
    "##### Your Tests Here #####\n",
    "calc_gini(X), calc_entropy(X)"
   ]
  },
  {
   "cell_type": "markdown",
   "metadata": {},
   "source": [
    "## Goodness of Split\n",
    "\n",
    "Given a feature the Goodnees of Split measures the reduction in the impurity if we split the data according to the feature.\n",
    "$$\n",
    "\\Delta\\varphi(S, A) = \\varphi(S) - \\sum_{v\\in Values(A)} \\frac{|S_v|}{|S|}\\varphi(S_v)\n",
    "$$\n",
    "\n",
    "In our implementation the goodness_of_split function will return either the Goodness of Split or the Gain Ratio as learned in class. You'll control the return value with the `gain_ratio` parameter. If this parameter will set to False (the default value) it will return the regular Goodness of Split. If it will set to True it will return the Gain Ratio.\n",
    "$$\n",
    "GainRatio(S,A)=\\frac{InformationGain(S,A)}{SplitInformation(S,A)}\n",
    "$$\n",
    "Where:\n",
    "$$\n",
    "InformationGain(S,A)=Goodness\\ of\\ Split\\ calculated\\ with\\ Entropy\\ as\\ the\\ Impurity\\ function \\\\\n",
    "SplitInformation(S,A)=- \\sum_{a\\in A} \\frac{|S_a|}{|S|}\\log\\frac{|S_a|}{|S|}\n",
    "$$\n",
    "NOTE: you can add more parameters to the function and you can also add more returning variables (The given parameters and the given returning variable should not be touch). (10 Points)"
   ]
  },
  {
   "cell_type": "code",
   "execution_count": 10,
   "metadata": {},
   "outputs": [],
   "source": [
    "def goodness_of_split(data, feature, impurity_func, gain_ratio=False):\n",
    "    \"\"\"\n",
    "    Calculate the goodness of split of a dataset given a feature and impurity function.\n",
    "\n",
    "    Input:\n",
    "    - data: any dataset where the last column holds the labels.\n",
    "    - feature: the feature index.\n",
    "    - impurity func: a function that calculates the impurity.\n",
    "    - gain_ratio: goodness of split or gain ratio flag.\n",
    "\n",
    "    Returns the goodness of split (or the Gain Ration).  \n",
    "    \"\"\"\n",
    "    ###########################################################################\n",
    "    # TODO: Implement the function.                                           #\n",
    "    ###########################################################################\n",
    "    num_instances = data.shape[0]\n",
    "    goodness = impurity_func(data)\n",
    "    # get values and counts of chosen feature\n",
    "    unique, counts = np.unique(data[:,feature], return_counts=True) \n",
    "    probs = counts / num_instances\n",
    "    for feature_val, prob in np.column_stack((unique, probs)):\n",
    "        goodness -= prob * impurity_func(data[data[:,feature] == feature_val])\n",
    "    if gain_ratio:\n",
    "        log_probs = np.log(probs) / np.log(2) #convert to base 2\n",
    "        split_info = - probs.dot(log_probs)\n",
    "        goodness = goodness / split_info\n",
    "    ###########################################################################\n",
    "    #                             END OF YOUR CODE                            #\n",
    "    ###########################################################################\n",
    "    return goodness    "
   ]
  },
  {
   "cell_type": "markdown",
   "metadata": {},
   "source": [
    "## Building a Decision Tree\n",
    "\n",
    "Use a Python class to construct the decision tree. Your class should support the following functionality:\n",
    "\n",
    "1. Initiating a node for a decision tree. You will need to use several class methods and class attributes and you are free to use them as you see fit. We recommend that every node will hold the feature and value used for the split and its children.\n",
    "2. Your code should support both Gini and Entropy as impurity measures. \n",
    "3. The provided data includes categorical data. In this exercise, when splitting a node create the number of children needed according to the attribute unique values.\n",
    "\n",
    "Complete the class `DecisionNode`. The structure of this class is entirely up to you. \n",
    "\n",
    "Complete the function `build_tree`. This function should get the training dataset and the impurity as inputs, initiate a root for the decision tree and construct the tree according to the procedure you learned in class. (30 points)"
   ]
  },
  {
   "cell_type": "code",
   "execution_count": 11,
   "metadata": {},
   "outputs": [],
   "source": [
    "class DecisionNode:\n",
    "    \"\"\"\n",
    "    This class will hold everything you require to construct a decision tree.\n",
    "    The structure of this class is up to you. However, you need to support basic \n",
    "    functionality as described above. It is highly recommended that you \n",
    "    first read and understand the entire exercise before diving into this class.\n",
    "    \"\"\"\n",
    "    def __init__(self, feature=None):\n",
    "        self.feature = feature # column index of criteria being tested\n",
    "        self.children = dict()\n",
    "        self.leaf = False\n",
    "        self.pred = None\n",
    "        self.label_dict = dict()\n",
    "        \n",
    "    def add_child(self, node, value: str):\n",
    "        self.children[value] = node\n",
    "        \n",
    "    def deep_clone(self):\n",
    "        \"\"\" Creates a deep copy of the node \"\"\"\n",
    "        clone = DecisionNode(self.feature)\n",
    "        clone.leaf = self.leaf\n",
    "        clone.pred = self.pred\n",
    "        clone.label_dict = self.label_dict.copy()\n",
    "        if clone.leaf:\n",
    "            return clone\n",
    "        for child_val, child_node in self.children.items():\n",
    "            clone.children[child_val] = child_node.deep_clone()\n",
    "        return clone"
   ]
  },
  {
   "cell_type": "code",
   "execution_count": 12,
   "metadata": {},
   "outputs": [],
   "source": [
    "# run chi_table cell before running this cell!\n",
    "def calc_chi_value(data, split_feature, feature_unique, feature_counts, label_unique, label_counts):\n",
    "    chi_square = 0\n",
    "    label_probs = label_counts / np.sum(label_counts)\n",
    "    for feature_val, feature_count in zip(feature_unique, feature_counts):\n",
    "        expectations = label_probs * feature_count\n",
    "        for i, label_val in enumerate(label_unique):\n",
    "            cur_count = data[(data[:, split_feature] == feature_val) & (data[:, -1] == label_val)].shape[0]\n",
    "            chi_square += (cur_count - expectations[i])**2 / expectations[i]\n",
    "    return chi_square\n",
    "\n",
    "def should_prune(data, split_feature, feature_unique, feature_counts, label_unique, label_counts, chi_cutoff):\n",
    "    chi_value = calc_chi_value(data, split_feature, feature_unique, feature_counts, label_unique, label_counts)\n",
    "    df = (feature_unique.size - 1) * (label_unique.size - 1)\n",
    "    min_chi_value = chi_table[df][chi_cutoff]\n",
    "    return chi_value < min_chi_value"
   ]
  },
  {
   "cell_type": "code",
   "execution_count": 13,
   "metadata": {},
   "outputs": [],
   "source": [
    "def build_tree(data, impurity, gain_ratio=False, chi=1, max_depth=1000, return_depth=False):\n",
    "    \"\"\"\n",
    "    Build a tree using the given impurity measure and training dataset. \n",
    "    You are required to fully grow the tree until all leaves are pure. \n",
    "\n",
    "    Input:\n",
    "    - data: the training dataset.\n",
    "    - impurity: the chosen impurity measure. Notice that you can send a function\n",
    "                as an argument in python.\n",
    "    - gain_ratio: goodness of split or gain ratio flag\n",
    "    - chi: chi square p-value cut off (1 means no pruning)\n",
    "    - max_depth: the allowable depth of the tree\n",
    "\n",
    "    Output: the root node of the tree.\n",
    "    \"\"\"\n",
    "    root = None\n",
    "    ###########################################################################\n",
    "    # TODO: Implement the function.                                           #\n",
    "    ###########################################################################\n",
    "    # Private nested function - build the tree recursively\n",
    "    def build_tree_rec(data, impurity, gain_ratio, chi, max_depth, cur_depth, features: set):\n",
    "        #update depth reached\n",
    "        nonlocal last_depth\n",
    "        last_depth = max(last_depth, cur_depth)\n",
    "        #create new node\n",
    "        cur = DecisionNode()\n",
    "        # get the distribution of labels from the data\n",
    "        label_unique, label_counts = np.unique(data[:,-1], return_counts=True)\n",
    "        # update node's prediction according to distribution\n",
    "        cur.pred = label_unique[np.argmax(label_counts)]\n",
    "        # save distribution data in the node for future use\n",
    "        cur.label_dict = dict(zip(label_unique, label_counts))\n",
    "        # if only 1 feature is reached the current node is a leaf\n",
    "        if label_unique.size == 1:\n",
    "            cur.leaf = True\n",
    "            return cur\n",
    "        # if there are no features left or max_depth is reached the node should be a leaf\n",
    "        if len(features) == 0 or cur_depth >= max_depth:\n",
    "            cur.leaf = True\n",
    "            return cur\n",
    "        # find best attribute according to the maximal gain/goodness\n",
    "        bestA = None\n",
    "        max_goodness = -1\n",
    "        for feature in features:\n",
    "            goodness = goodness_of_split(data, feature, impurity, gain_ratio)\n",
    "            if goodness > max_goodness:\n",
    "                max_goodness = goodness\n",
    "                bestA = feature\n",
    "        cur.feature = bestA\n",
    "        feature_unique, feature_counts = np.unique(data[:,bestA], return_counts=True)\n",
    "        # for \n",
    "        if chi < 1 and should_prune(data, bestA, feature_unique, feature_counts, label_unique, label_counts, chi):\n",
    "            cur.leaf = True\n",
    "            return cur\n",
    "        \n",
    "        features.remove(bestA)\n",
    "        for feature_val in feature_unique:\n",
    "            cur.children[feature_val] = build_tree_rec(data[data[:, bestA] == feature_val],\n",
    "                                                      impurity, gain_ratio, chi, \n",
    "                                                      max_depth, cur_depth + 1, features)\n",
    "        features.add(bestA)\n",
    "        return cur\n",
    "    \n",
    "    last_depth = 0\n",
    "    features = set(range(data.shape[1] - 1))\n",
    "    root = build_tree_rec(data, impurity, gain_ratio, chi, max_depth, 0, features)\n",
    "    if return_depth:\n",
    "        return root, last_depth\n",
    "    ###########################################################################\n",
    "    #                             END OF YOUR CODE                            #\n",
    "    ###########################################################################\n",
    "    return root\n"
   ]
  },
  {
   "cell_type": "code",
   "execution_count": 14,
   "metadata": {},
   "outputs": [
    {
     "name": "stdout",
     "output_type": "stream",
     "text": [
      "Wall time: 7.15 s\n"
     ]
    }
   ],
   "source": [
    "%%time\n",
    "# python supports passing a function as an argument to another function.\n",
    "tree_gini = build_tree(data=X_train, impurity=calc_gini) # gini and goodness of split\n",
    "tree_entropy = build_tree(data=X_train, impurity=calc_entropy) # entropy and goodness of split\n",
    "tree_entropy_gain_ratio = build_tree(data=X_train, impurity=calc_entropy, gain_ratio=True) # entropy and gain ratio"
   ]
  },
  {
   "cell_type": "markdown",
   "metadata": {},
   "source": [
    "## Tree evaluation\n",
    "\n",
    "Complete the functions `predict` and `calc_accuracy`. (10 points)"
   ]
  },
  {
   "cell_type": "code",
   "execution_count": 15,
   "metadata": {},
   "outputs": [],
   "source": [
    "def predict(node, instance):\n",
    "    \"\"\"\n",
    "    Predict a given instance using the decision tree\n",
    " \n",
    "    Input:\n",
    "    - root: the root of the decision tree.\n",
    "    - instance: an row vector from the dataset. Note that the last element \n",
    "                of this vector is the label of the instance.\n",
    " \n",
    "    Output: the prediction of the instance.\n",
    "    \"\"\"\n",
    "    pred = None\n",
    "    ###########################################################################\n",
    "    # TODO: Implement the function.                                           #\n",
    "    ###########################################################################\n",
    "    while not node.leaf:\n",
    "        # break if feature is not found in the node\n",
    "        if instance[node.feature] not in node.children:\n",
    "            break\n",
    "        node = node.children[instance[node.feature]]\n",
    "    ###########################################################################\n",
    "    #                             END OF YOUR CODE                            #\n",
    "    ###########################################################################\n",
    "    return node.pred"
   ]
  },
  {
   "cell_type": "code",
   "execution_count": 16,
   "metadata": {},
   "outputs": [],
   "source": [
    "def calc_accuracy(node, dataset):\n",
    "    \"\"\"\n",
    "    Predict a given dataset using the decision tree\n",
    " \n",
    "    Input:\n",
    "    - node: a node in the decision tree.\n",
    "    - dataset: the dataset on which the accuracy is evaluated\n",
    " \n",
    "    Output: the accuracy of the decision tree on the given dataset (%).\n",
    "    \"\"\"\n",
    "    accuracy = 0\n",
    "    ###########################################################################\n",
    "    # TODO: Implement the function.                                           #\n",
    "    ###########################################################################\n",
    "    accurate_predictions = 0\n",
    "    total_predictions = dataset.shape[0]\n",
    "    for instance in dataset:\n",
    "        # add 1 to accurate_predictions if prediction matches actual class, else add 0\n",
    "        accurate_predictions += int(predict(node, instance) == instance[-1])\n",
    "    accuracy = accurate_predictions / total_predictions\n",
    "    ###########################################################################\n",
    "    #                             END OF YOUR CODE                            #\n",
    "    ###########################################################################\n",
    "    return accuracy "
   ]
  },
  {
   "cell_type": "markdown",
   "metadata": {},
   "source": [
    "After building the three trees using the training set, you should calculate the accuracy on the test set. For each tree print the training and test accuracy. Select the tree that gave you the best test accuracy. For the rest of the exercise, use that tree (when you asked to build another tree use the same impurity function and same gain_ratio flag). "
   ]
  },
  {
   "cell_type": "code",
   "execution_count": 17,
   "metadata": {},
   "outputs": [
    {
     "name": "stdout",
     "output_type": "stream",
     "text": [
      "tree_gini train accuracy: 1.0\n",
      "tree_gini test accuracy: 0.7749876907927129\n",
      "tree_entropy train accuracy: 1.0\n",
      "tree_entropy test accuracy: 0.7725258493353028\n",
      "tree_entropy_gain_ratio train accuracy: 1.0\n",
      "tree_entropy_gain_ratio test accuracy: 0.7872968980797637\n"
     ]
    }
   ],
   "source": [
    "#### Your code here ####\n",
    "print(f\"tree_gini train accuracy: {calc_accuracy(tree_gini, X_train)}\")\n",
    "print(f\"tree_gini test accuracy: {calc_accuracy(tree_gini, X_test)}\")\n",
    "print(f\"tree_entropy train accuracy: {calc_accuracy(tree_entropy, X_train)}\")\n",
    "print(f\"tree_entropy test accuracy: {calc_accuracy(tree_entropy, X_test)}\")\n",
    "print(f\"tree_entropy_gain_ratio train accuracy: {calc_accuracy(tree_entropy_gain_ratio, X_train)}\")\n",
    "print(f\"tree_entropy_gain_ratio test accuracy: {calc_accuracy(tree_entropy_gain_ratio, X_test)}\")\n"
   ]
  },
  {
   "cell_type": "markdown",
   "metadata": {},
   "source": [
    "## Post pruning\n",
    "\n",
    "Iterate over all nodes in the tree that have at least a single child which is a leaf. For each such node, replace it with its most popular class. Calculate the accuracy on the testing dataset, pick the node that results in the highest testing accuracy and permanently change it in the tree. Repeat this process until you are left with a single node in the tree (the root). Finally, create a plot of the training and testing accuracies as a function of the number of nodes in the tree. (15 points)"
   ]
  },
  {
   "cell_type": "code",
   "execution_count": 18,
   "metadata": {},
   "outputs": [],
   "source": [
    "#### Your code here ####\n",
    "from collections import deque # According to a post in piazza we can import collections\n",
    "def post_pruning(root, train_set, test_set, return_best_tree=False):\n",
    "    # save accuracy history of the pruning for visual representation\n",
    "    train_pruning_history = dict()\n",
    "    test_pruning_history = dict()\n",
    "    # save best accuracy and best tree root for saving a clone of the best tree\n",
    "    best_tree_accuracy = -1\n",
    "    best_tree_root = None\n",
    "    # iterate as long as root is not the only node left\n",
    "    while not root.leaf:\n",
    "        max_accuracy_val = -1\n",
    "        max_accuracy_node = None\n",
    "        node_count = 1\n",
    "        # traverse tree using BFS\n",
    "        bfs_q = deque()\n",
    "        bfs_q.append(root)\n",
    "        while len(bfs_q) > 0:\n",
    "            cur_node = bfs_q.popleft()\n",
    "            # check if at least one of the children is a leaf, and add non leaf children to BFS queue\n",
    "            found_leaf = False\n",
    "            for child_node in cur_node.children.values():\n",
    "                node_count += 1\n",
    "                if child_node.leaf:\n",
    "                    found_leaf = True\n",
    "                else:\n",
    "                    bfs_q.append(child_node)\n",
    "            # check accuracy if at least one child is a leaf\n",
    "            if found_leaf:\n",
    "                cur_node.leaf = True\n",
    "                cur_accuracy = calc_accuracy(root, test_set)\n",
    "                if cur_accuracy > max_accuracy_val:\n",
    "                    max_accuracy_val = cur_accuracy\n",
    "                    max_accuracy_node = cur_node\n",
    "                cur_node.leaf = False\n",
    "        max_accuracy_node.leaf = True\n",
    "        # update best tree if needed\n",
    "        if return_best_tree and best_tree_accuracy <= max_accuracy_val:\n",
    "            best_tree_accuracy = max_accuracy_val\n",
    "            best_tree_root = root.deep_clone()\n",
    "        # update traing and test history\n",
    "        train_pruning_history[node_count] = calc_accuracy(root, train_set)\n",
    "        test_pruning_history[node_count] = max_accuracy_val\n",
    "    if return_best_tree:\n",
    "        return train_pruning_history, test_pruning_history, best_tree_root\n",
    "    return train_pruning_history, test_pruning_history\n",
    "\n",
    "def plot_accuracy_as_number_of_nodes(train_pruning_history, test_pruning_history):\n",
    "    plt.plot(list(train_pruning_history.keys()), list(train_pruning_history.values()), label=\"Train data\")\n",
    "    plt.plot(list(test_pruning_history.keys()), list(test_pruning_history.values()), label=\"Test data\", linestyle='dashed')\n",
    "    plt.xlabel('Number of nodes')\n",
    "    plt.ylabel(f'Accuracy')\n",
    "    plt.title(f'Accuracy as a function of the number of nodes')\n",
    "    plt.legend()\n",
    "    plt.show()\n"
   ]
  },
  {
   "cell_type": "code",
   "execution_count": 19,
   "metadata": {},
   "outputs": [
    {
     "name": "stdout",
     "output_type": "stream",
     "text": [
      "Wall time: 1min 14s\n"
     ]
    }
   ],
   "source": [
    "%%time\n",
    "train_pruning_history, test_pruning_history, best_post_prune_tree = post_pruning(tree_entropy_gain_ratio, \n",
    "                                                                                 X_train, \n",
    "                                                                                 X_test, \n",
    "                                                                                 return_best_tree=True)"
   ]
  },
  {
   "cell_type": "code",
   "execution_count": 20,
   "metadata": {},
   "outputs": [
    {
     "data": {
      "image/png": "[encoded data removed]",
      "text/plain": [
       "<Figure size 720x576 with 1 Axes>"
      ]
     },
     "metadata": {
      "needs_background": "light"
     },
     "output_type": "display_data"
    }
   ],
   "source": [
    "plot_accuracy_as_number_of_nodes(train_pruning_history, test_pruning_history)"
   ]
  },
  {
   "cell_type": "markdown",
   "metadata": {},
   "source": [
    "## Chi square pre-pruning\n",
    "\n",
    "Consider the following p-value cut-off values: [1 (no pruning), 0.5, 0.25, 0.1, 0.05, 0.0001 (max pruning)]. For each value, construct a tree and prune it according to the cut-off value. Next, calculate the training and testing accuracy. On a single plot, draw the training and testing accuracy as a function of the tuple (p-value, tree depth). Mark the best result on the graph with red circle. (15 points)"
   ]
  },
  {
   "cell_type": "code",
   "execution_count": 21,
   "metadata": {},
   "outputs": [],
   "source": [
    "### Chi square table values ###\n",
    "# The first key is the degree of freedom \n",
    "# The second key is the p-value cut-off\n",
    "# The values are the chi-statistic that you need to use in the pruning\n",
    "chi_table = {1: {0.5 : 0.45,\n",
    "                 0.25 : 1.32,\n",
    "                 0.1 : 2.71,\n",
    "                 0.05 : 3.84,\n",
    "                 0.0001 : 100000},\n",
    "             2: {0.5 : 1.39,\n",
    "                 0.25 : 2.77,\n",
    "                 0.1 : 4.60,\n",
    "                 0.05 : 5.99,\n",
    "                 0.0001 : 100000},\n",
    "             3: {0.5 : 2.37,\n",
    "                 0.25 : 4.11,\n",
    "                 0.1 : 6.25,\n",
    "                 0.05 : 7.82,\n",
    "                 0.0001 : 100000},\n",
    "             4: {0.5 : 3.36,\n",
    "                 0.25 : 5.38,\n",
    "                 0.1 : 7.78,\n",
    "                 0.05 : 9.49,\n",
    "                 0.0001 : 100000},\n",
    "             5: {0.5 : 4.35,\n",
    "                 0.25 : 6.63,\n",
    "                 0.1 : 9.24,\n",
    "                 0.05 : 11.07,\n",
    "                 0.0001 : 100000},\n",
    "             6: {0.5 : 5.35,\n",
    "                 0.25 : 7.84,\n",
    "                 0.1 : 10.64,\n",
    "                 0.05 : 12.59,\n",
    "                 0.0001 : 100000},\n",
    "             7: {0.5 : 6.35,\n",
    "                 0.25 : 9.04,\n",
    "                 0.1 : 12.01,\n",
    "                 0.05 : 14.07,\n",
    "                 0.0001 : 100000},\n",
    "             8: {0.5 : 7.34,\n",
    "                 0.25 : 10.22,\n",
    "                 0.1 : 13.36,\n",
    "                 0.05 : 15.51,\n",
    "                 0.0001 : 100000},\n",
    "             9: {0.5 : 8.34,\n",
    "                 0.25 : 11.39,\n",
    "                 0.1 : 14.68,\n",
    "                 0.05 : 16.92,\n",
    "                 0.0001 : 100000},\n",
    "             10: {0.5 : 9.34,\n",
    "                  0.25 : 12.55,\n",
    "                  0.1 : 15.99,\n",
    "                  0.05 : 18.31,\n",
    "                  0.0001 : 100000},\n",
    "             11: {0.5 : 10.34,\n",
    "                  0.25 : 13.7,\n",
    "                  0.1 : 17.27,\n",
    "                  0.05 : 19.68,\n",
    "                  0.0001 : 100000}}"
   ]
  },
  {
   "cell_type": "code",
   "execution_count": 22,
   "metadata": {},
   "outputs": [
    {
     "data": {
      "image/png": "[encoded data removed]",
      "text/plain": [
       "<Figure size 1584x720 with 1 Axes>"
      ]
     },
     "metadata": {
      "needs_background": "light"
     },
     "output_type": "display_data"
    }
   ],
   "source": [
    "#### Your code here ####\n",
    "p_values = [1, 0.5, 0.25, 0.1, 0.05, 0.0001]\n",
    "\n",
    "train_accuracy_list = list()\n",
    "test_accuracy_list = list()\n",
    "depth_list = list()\n",
    "# for each p value create a tree and prune it\n",
    "for p_value in p_values:\n",
    "    chi_entropy_tree, cur_depth = build_tree(data=X_train, impurity=calc_entropy, gain_ratio=True, \n",
    "                                             chi=p_value, return_depth=True)\n",
    "    depth_list.append(cur_depth)\n",
    "    train_accuracy_list.append(calc_accuracy(chi_entropy_tree, X_train))\n",
    "    test_accuracy_list.append(calc_accuracy(chi_entropy_tree, X_test))\n",
    "    \n",
    "# plot according to description\n",
    "plt.figure(figsize=(22,10))\n",
    "plt.plot(p_values, train_accuracy_list, label=\"Train data\")\n",
    "plt.plot(p_values, test_accuracy_list, label=\"Test data\", linestyle='dashed')\n",
    "# mark maximum points\n",
    "max_train_accuracy = max(train_accuracy_list)\n",
    "max_train_p = p_values[train_accuracy_list.index(max_train_accuracy)]\n",
    "plt.plot(max_train_p, max_train_accuracy, 'ro')\n",
    "plt.annotate((max_train_p, max_train_accuracy), (max_train_p, max_train_accuracy))\n",
    "\n",
    "max_test_accuracy = max(test_accuracy_list)\n",
    "max_test_p = p_values[test_accuracy_list.index(max_test_accuracy)]\n",
    "plt.plot(max_test_p, max_test_accuracy, 'ro')\n",
    "plt.annotate((max_test_p, max_test_accuracy), (max_test_p, max_test_accuracy))\n",
    "\n",
    "#annotate depth\n",
    "for p_value, depth in zip(p_values, depth_list):\n",
    "    plt.annotate(f\"depth:{depth}\\np:{p_value}\", (p_value, 0.5))\n",
    "plt.xlabel('P values')\n",
    "plt.ylabel(f'Accuracy')\n",
    "plt.title(f'Accuracy as a function of p values')\n",
    "plt.legend()\n",
    "\n",
    "plt.show()"
   ]
  },
  {
   "cell_type": "markdown",
   "metadata": {},
   "source": [
    "Build the best 2 trees:\n",
    "1. tree_max_depth - the best tree according to max_depth pruning\n",
    "1. tree_chi - the best tree according to chi square pruning"
   ]
  },
  {
   "cell_type": "code",
   "execution_count": 23,
   "metadata": {},
   "outputs": [],
   "source": [
    "#### Your code here ####\n",
    "tree_max_depth = best_post_prune_tree # best tree that was already found in the last post pruning run\n",
    "# re-create tree according to best p value\n",
    "tree_chi = build_tree(data=X_train, impurity=calc_entropy, gain_ratio=True, chi=max_test_p) "
   ]
  },
  {
   "cell_type": "markdown",
   "metadata": {},
   "source": [
    "## Number of Nodes\n",
    "\n",
    "Of the two trees above we will choose the one with fewer nodes. Complete the function counts_nodes and print the number of nodes in each tree. (5 points) "
   ]
  },
  {
   "cell_type": "code",
   "execution_count": 24,
   "metadata": {},
   "outputs": [],
   "source": [
    "def count_nodes(node):\n",
    "    \"\"\"\n",
    "    Count the number of node in a given tree\n",
    " \n",
    "    Input:\n",
    "    - node: a node in the decision tree.\n",
    " \n",
    "    Output: the number of node in the tree.\n",
    "    \"\"\"\n",
    "    ###########################################################################\n",
    "    # TODO: Implement the function.                                           #\n",
    "    ###########################################################################\n",
    "    # Traverse the tree with BFS and count the nodes\n",
    "    bfs_q = deque()\n",
    "    bfs_q.append(node)\n",
    "    count = 0\n",
    "    while len(bfs_q) > 0:\n",
    "        cur_node = bfs_q.pop()\n",
    "        count += 1\n",
    "        if cur_node.leaf:\n",
    "            continue\n",
    "        for child_node in cur_node.children.values():\n",
    "            bfs_q.append(child_node)\n",
    "    return count\n",
    "    ###########################################################################\n",
    "    #                             END OF YOUR CODE                            #\n",
    "    ###########################################################################\n",
    "    "
   ]
  },
  {
   "cell_type": "code",
   "execution_count": 25,
   "metadata": {},
   "outputs": [
    {
     "name": "stdout",
     "output_type": "stream",
     "text": [
      "The number of nodes in the best tree according to max_depth pruning is: 60\n",
      "The number of nodes in the best tree according to chi square pruning is: 55\n"
     ]
    }
   ],
   "source": [
    "tree_max_depth_count = count_nodes(tree_max_depth)\n",
    "tree_chi_count = count_nodes(tree_chi)\n",
    "print(f'The number of nodes in the best tree according to max_depth pruning is: {tree_max_depth_count}')\n",
    "print(f'The number of nodes in the best tree according to chi square pruning is: {tree_chi_count}')\n",
    "chosen_tree = tree_max_depth if tree_max_depth_count < tree_chi_count else tree_chi"
   ]
  },
  {
   "cell_type": "markdown",
   "metadata": {},
   "source": [
    "## Print the tree\n",
    "\n",
    "Complete the function `print_tree` and execute it on your chosen tree. Your tree should be visualized clearly. You can use the following example as a reference:\n",
    "```\n",
    "[ROOT, feature=X0],\n",
    "  [X0=a, feature=X2]\n",
    "    [X2=c, leaf]: [{1.0: 10}]\n",
    "    [X2=d, leaf]: [{0.0: 10}]\n",
    "  [X0=y, feature=X5], \n",
    "    [X5=a, leaf]: [{1.0: 5}]\n",
    "    [X5=s, leaf]: [{0.0: 10}]\n",
    "  [X0=e, leaf]: [{0.0: 25, 1.0: 50}]\n",
    "```\n",
    "In each brackets:\n",
    "* The first argument is the parent feature with the value that led to current node\n",
    "* The second argument is the selected feature of the current node\n",
    "* If the current node is a leaf, you need to print also the labels and their counts\n",
    "\n",
    "(5 points)"
   ]
  },
  {
   "cell_type": "code",
   "execution_count": 26,
   "metadata": {},
   "outputs": [],
   "source": [
    "# you can change the function signeture\n",
    "def print_tree(node, depth=0, parent_feature='ROOT', feature_val='ROOT'):\n",
    "    '''\n",
    "    prints the tree according to the example above\n",
    "\n",
    "    Input:\n",
    "    - node: a node in the decision tree\n",
    "\n",
    "    This function has no return value\n",
    "    '''\n",
    "    ###########################################################################\n",
    "    # TODO: Implement the function.                                           #\n",
    "    ###########################################################################\n",
    "    # print the tree recursively according to guidlines\n",
    "    feature_name_str = \"   \" * depth\n",
    "    if parent_feature == 'ROOT':\n",
    "        feature_name_str += '[ROOT, '\n",
    "    else:\n",
    "        feature_name_str += f'[{parent_feature}={feature_val}, '\n",
    "    if node.leaf:\n",
    "        feature_name_str += f'leaf]: [{node.label_dict}]'\n",
    "    else:\n",
    "        feature_name_str += f'feature={node.feature}],'    \n",
    "    print(feature_name_str)\n",
    "    if node.leaf:\n",
    "        return\n",
    "    for child_val, child_node in node.children.items():\n",
    "        print_tree(child_node, depth+1, node.feature, child_val)\n",
    "    ###########################################################################\n",
    "    #                             END OF YOUR CODE                            #\n",
    "    ###########################################################################"
   ]
  },
  {
   "cell_type": "code",
   "execution_count": 27,
   "metadata": {},
   "outputs": [
    {
     "name": "stdout",
     "output_type": "stream",
     "text": [
      "[ROOT, feature=4],\n",
      "   [4=a, leaf]: [{'e': 273, 'p': 31}]\n",
      "   [4=c, leaf]: [{'e': 10, 'p': 137}]\n",
      "   [4=f, feature=10],\n",
      "      [10=f, feature=2],\n",
      "         [2=b, leaf]: [{'e': 8, 'p': 30}]\n",
      "         [2=g, leaf]: [{'e': 5, 'p': 26}]\n",
      "         [2=w, leaf]: [{'e': 1, 'p': 35}]\n",
      "      [10=k, leaf]: [{'e': 134, 'p': 1037}]\n",
      "      [10=s, leaf]: [{'e': 22, 'p': 310}]\n",
      "   [4=l, feature=1],\n",
      "      [1=f, leaf]: [{'e': 19, 'p': 1}]\n",
      "      [1=s, leaf]: [{'e': 94, 'p': 16}]\n",
      "      [1=y, leaf]: [{'e': 159, 'p': 10}]\n",
      "   [4=m, leaf]: [{'e': 2, 'p': 25}]\n",
      "   [4=n, feature=7],\n",
      "      [7=b, feature=18],\n",
      "         [18=b, leaf]: [{'e': 34, 'p': 2}]\n",
      "         [18=k, leaf]: [{'e': 843, 'p': 93}]\n",
      "         [18=n, leaf]: [{'e': 882, 'p': 105}]\n",
      "         [18=o, feature=19],\n",
      "            [19=c, leaf]: [{'e': 12, 'p': 4}]\n",
      "            [19=v, leaf]: [{'e': 16}]\n",
      "         [18=r, leaf]: [{'e': 6, 'p': 46}]\n",
      "         [18=w, leaf]: [{'e': 369, 'p': 33}]\n",
      "         [18=y, leaf]: [{'e': 35, 'p': 3}]\n",
      "      [7=n, feature=3],\n",
      "         [3=f, feature=10],\n",
      "            [10=f, leaf]: [{'e': 17, 'p': 3}]\n",
      "            [10=k, leaf]: [{'p': 25}]\n",
      "            [10=s, feature=2],\n",
      "               [2=c, leaf]: [{'e': 10}]\n",
      "               [2=g, leaf]: [{'e': 36, 'p': 1}]\n",
      "               [2=n, leaf]: [{'e': 37, 'p': 9}]\n",
      "               [2=r, leaf]: [{'e': 9, 'p': 4}]\n",
      "               [2=u, leaf]: [{'e': 14}]\n",
      "               [2=w, leaf]: [{'e': 12, 'p': 1}]\n",
      "            [10=y, leaf]: [{'p': 7}]\n",
      "         [3=t, leaf]: [{'p': 8}]\n",
      "   [4=p, feature=0],\n",
      "      [0=f, feature=18],\n",
      "         [18=k, leaf]: [{'e': 6, 'p': 43}]\n",
      "         [18=n, leaf]: [{'e': 1, 'p': 43}]\n",
      "      [0=x, leaf]: [{'e': 1, 'p': 89}]\n",
      "   [4=s, feature=13],\n",
      "      [13=p, leaf]: [{'e': 12, 'p': 190}]\n",
      "      [13=w, feature=12],\n",
      "         [12=p, leaf]: [{'e': 18, 'p': 88}]\n",
      "         [12=w, feature=0],\n",
      "            [0=f, leaf]: [{'p': 38}]\n",
      "            [0=k, leaf]: [{'e': 3, 'p': 30}]\n",
      "            [0=x, leaf]: [{'e': 5, 'p': 34}]\n",
      "   [4=y, feature=1],\n",
      "      [1=s, leaf]: [{'e': 18, 'p': 194}]\n",
      "      [1=y, leaf]: [{'e': 31, 'p': 188}]\n"
     ]
    }
   ],
   "source": [
    "print_tree(chosen_tree)"
   ]
  },
  {
   "cell_type": "code",
   "execution_count": null,
   "metadata": {},
   "outputs": [],
   "source": []
  }
 ],
 "metadata": {
  "celltoolbar": "Create Assignment",
  "kernelspec": {
   "display_name": "Python 3",
   "language": "python",
   "name": "python3"
  },
  "language_info": {
   "codemirror_mode": {
    "name": "ipython",
    "version": 3
   },
   "file_extension": ".py",
   "mimetype": "text/x-python",
   "name": "python",
   "nbconvert_exporter": "python",
   "pygments_lexer": "ipython3",
   "version": "3.8.1"
  }
 },
 "nbformat": 4,
 "nbformat_minor": 2
}
